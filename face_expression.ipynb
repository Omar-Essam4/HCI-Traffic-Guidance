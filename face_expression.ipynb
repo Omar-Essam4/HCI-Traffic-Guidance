{
  "cells": [
    {
      "cell_type": "code",
      "execution_count": 2,
      "metadata": {
        "id": "vftY3CDgNJVY"
      },
      "outputs": [
        {
          "name": "stdout",
          "output_type": "stream",
          "text": [
            "Emotion detection started. Press 'q' to quit.\n",
            "Logged emotion: surprise\n",
            "Logged emotion: angry\n",
            "Logged emotion: neutral\n",
            "Logged emotion: sad\n",
            "Logged emotion: happy\n",
            "Logged emotion: fear\n",
            "Emotion detection session ended. Check 'emotion_report.txt' for the results.\n"
          ]
        }
      ],
      "source": [
        "import cv2\n",
        "from deepface import DeepFace\n",
        "import datetime\n",
        "import time\n",
        "\n",
        "# Load the Haar Cascade for face detection\n",
        "face_cascade = cv2.CascadeClassifier(cv2.data.haarcascades + 'haarcascade_frontalface_default.xml')\n",
        "\n",
        "# Open the webcam\n",
        "cap = cv2.VideoCapture(0)\n",
        "\n",
        "if not cap.isOpened():\n",
        "    print(\"Error: Could not access the webcam.\")\n",
        "    exit()\n",
        "\n",
        "# Dictionary to track unique emotions\n",
        "logged_emotions = set()\n",
        "\n",
        "# Timer to manage 10-second intervals\n",
        "last_logged_time = time.time()\n",
        "\n",
        "print(\"Emotion detection started. Press 'q' to quit.\")\n",
        "\n",
        "while True:\n",
        "    ret, frame = cap.read()\n",
        "    if not ret:\n",
        "        print(\"Error: Could not read frame.\")\n",
        "        break\n",
        "\n",
        "    # Convert the frame to grayscale for face detection\n",
        "    gray_frame = cv2.cvtColor(frame, cv2.COLOR_BGR2GRAY)\n",
        "\n",
        "    # Detect faces in the frame\n",
        "    faces = face_cascade.detectMultiScale(gray_frame, scaleFactor=1.3, minNeighbors=5, minSize=(50, 50))\n",
        "\n",
        "    for (x, y, w, h) in faces:\n",
        "        # Draw a rectangle around the face\n",
        "        cv2.rectangle(frame, (x, y), (x + w, y + h), (255, 0, 0), 2)\n",
        "\n",
        "        # Crop the face region for emotion analysis\n",
        "        face_roi = frame[y:y + h, x:x + w]\n",
        "\n",
        "        try:\n",
        "            # Analyze the face for emotions\n",
        "            analysis = DeepFace.analyze(face_roi, actions=['emotion'], enforce_detection=False)\n",
        "            dominant_emotion = analysis[0]['dominant_emotion']\n",
        "\n",
        "            # Log emotion every 10 seconds without repetition\n",
        "            current_time = time.time()\n",
        "            if current_time - last_logged_time >= 10 and dominant_emotion not in logged_emotions:\n",
        "                # Display the dominant emotion on the video feed\n",
        "                cv2.putText(frame, f\"{dominant_emotion}\", (x, y - 10),\n",
        "                            cv2.FONT_HERSHEY_SIMPLEX, 0.9, (0, 255, 0), 2, cv2.LINE_AA)\n",
        "\n",
        "                # Log the emotion to the text file with a timestamp (real-time)\n",
        "                timestamp = datetime.datetime.now().strftime(\"%Y-%m-%d %H:%M:%S\")\n",
        "                log_entry = f\"{timestamp} - Detected Emotion: {dominant_emotion}\\n\"\n",
        "                with open(\"emotion_report.txt\", \"a\") as log_file:\n",
        "                    log_file.write(log_entry)\n",
        "                print(f\"Logged emotion: {dominant_emotion}\")\n",
        "\n",
        "                # Add the emotion to the set\n",
        "                logged_emotions.add(dominant_emotion)\n",
        "\n",
        "                # Update the last logged time\n",
        "                last_logged_time = current_time\n",
        "\n",
        "        except Exception as e:\n",
        "            print(f\"Error analyzing emotions: {e}\")\n",
        "\n",
        "    # Show the live feed with face bounding boxes and emotion annotations\n",
        "    cv2.imshow(\"Face Detection and Emotion Recognition\", frame)\n",
        "\n",
        "    # Exit if 'q' is pressed\n",
        "    if cv2.waitKey(1) & 0xFF == ord('q'):\n",
        "        break\n",
        "\n",
        "# Finalize the report in the text file\n",
        "with open(\"emotion_report.txt\", \"a\") as log_file:\n",
        "    log_file.write(\"\\nSession ended at: \" + datetime.datetime.now().strftime(\"%Y-%m-%d %H:%M:%S\") + \"\\n\")\n",
        "\n",
        "# Release resources\n",
        "cap.release()\n",
        "cv2.destroyAllWindows()\n",
        "\n",
        "print(\"Emotion detection session ended. Check 'emotion_report.txt' for the results.\")\n"
      ]
    }
  ],
  "metadata": {
    "colab": {
      "provenance": []
    },
    "kernelspec": {
      "display_name": "Python 3",
      "name": "python3"
    },
    "language_info": {
      "codemirror_mode": {
        "name": "ipython",
        "version": 3
      },
      "file_extension": ".py",
      "mimetype": "text/x-python",
      "name": "python",
      "nbconvert_exporter": "python",
      "pygments_lexer": "ipython3",
      "version": "3.10.0"
    }
  },
  "nbformat": 4,
  "nbformat_minor": 0
}
