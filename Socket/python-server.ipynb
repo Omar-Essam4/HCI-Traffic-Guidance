{
 "cells": [
  {
   "cell_type": "code",
   "execution_count": null,
   "id": "e67f3709",
   "metadata": {},
   "outputs": [
    {
     "name": "stdout",
     "output_type": "stream",
     "text": [
      "device connected\n"
     ]
    }
   ],
   "source": [
    "import socket\n",
    "import pickle \n",
    "soc = socket.socket()\n",
    "hostname=\"localhost\"# 127.0.0.1 #0.0.0.0\n",
    "port=3333\n",
    "soc.bind((hostname,port))\n",
    "soc.listen(1)\n",
    "conn , addr = soc.accept()\n",
    "print(\"device connected\")\n",
    "\n",
    "while True :\n",
    "#     msg = b\"Hello World\"\n",
    "    msg = pickle.dumps(input(\"Enter the message : \"))\n",
    "    conn.send(msg)\n",
    "    if msg == pickle.dumps(\"exit\"):\n",
    "        break"
   ]
  },
  {
   "cell_type": "code",
   "execution_count": null,
   "id": "02abdbd9",
   "metadata": {},
   "outputs": [],
   "source": []
  }
 ],
 "metadata": {
  "kernelspec": {
   "display_name": "Python 3",
   "language": "python",
   "name": "python3"
  },
  "language_info": {
   "codemirror_mode": {
    "name": "ipython",
    "version": 3
   },
   "file_extension": ".py",
   "mimetype": "text/x-python",
   "name": "python",
   "nbconvert_exporter": "python",
   "pygments_lexer": "ipython3",
   "version": "3.10.7"
  }
 },
 "nbformat": 4,
 "nbformat_minor": 5
}
